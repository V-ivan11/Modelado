{
 "cells": [
  {
   "cell_type": "markdown",
   "metadata": {},
   "source": [
    "# Ordinary Least Squares\n",
    "\n",
    "Nombres:\n",
    "- Perea Samaniego Jesús Giovanni\n",
    "- Riubi Zuñiga Andrey\n",
    "- Verduzco Lozano Iván Antonio"
   ]
  },
  {
   "cell_type": "code",
   "execution_count": 13,
   "metadata": {},
   "outputs": [],
   "source": [
    "import numpy as np\n",
    "import matplotlib.pyplot as plt"
   ]
  },
  {
   "cell_type": "code",
   "execution_count": 27,
   "metadata": {},
   "outputs": [],
   "source": [
    "class LinearData:\n",
    "    def __init__(self, b_0 = 0, b_1 = 0, n = 100):\n",
    "        \"\"\"\n",
    "        Create a linear data set with n observations.\n",
    "        \"\"\"\n",
    "        self.b_0 = b_0\n",
    "        self.n = n\n",
    "        if b_1 == 0:\n",
    "            self.b_1 = np.random.uniform(-1, 1)\n",
    "        else:   \n",
    "            self.b_1 = b_1\n",
    "        self.x = np.linspace(-1, 1, n)\n",
    "        self.y = self.b_0 + self.b_1 * self.x + np.random.normal(0, 1, n)\n",
    "\n",
    "    def sample(self, n):\n",
    "        \"\"\"\n",
    "        Returns a sample of size n from the initial data set.\n",
    "        \"\"\"\n",
    "        index = np.random.choice(self.n, n)\n",
    "        return self.x[index], self.y[index]\n",
    "    \n",
    "    def plot(self, x, y):\n",
    "        \"\"\"\n",
    "        Plots linear data set.\n",
    "        \"\"\"\n",
    "        plt.figure(figsize = (8, 4))\n",
    "        plt.scatter(self.x, self.y, s = 10, color = 'darkblue')\n",
    "        plt.plot(self.x, self.b_0 + self.b_1 * x)\n",
    "        plt.xlabel('x')\n",
    "        plt.ylabel('y')\n",
    "        plt.show()"
   ]
  },
  {
   "cell_type": "code",
   "execution_count": 28,
   "metadata": {},
   "outputs": [
    {
     "data": {
      "image/png": "[encoded data removed]",
      "text/plain": [
       "<Figure size 800x400 with 1 Axes>"
      ]
     },
     "metadata": {},
     "output_type": "display_data"
    }
   ],
   "source": [
    "data = LinearData(b_0 = 1)\n",
    "data.plot(data.x, data.y)"
   ]
  },
  {
   "cell_type": "code",
   "execution_count": 16,
   "metadata": {},
   "outputs": [],
   "source": [
    "class OLS:\n",
    "    def __init__(self, X, y):\n",
    "        self.X = X\n",
    "        self.y = y\n",
    "        self.betas = []\n",
    "        self.u = []\n",
    "\n",
    "    def fit(self):\n",
    "        \"\"\"\n",
    "        Fits the OLS model.\n",
    "        \"\"\"\n",
    "        x_mean = np.mean(self.X)\n",
    "        y_mean = np.mean(self.y)\n",
    "        b_1 = np.sum((self.X - x_mean) * (self.y - y_mean)) / np.sum((self.X - x_mean)**2)\n",
    "        b_0 = y_mean - b_1 * x_mean\n",
    "        self.u = self.y - b_0 - b_1 * self.X\n",
    "        self.betas = [b_0, b_1]\n",
    "\n",
    "    def sst(self):\n",
    "        \"\"\"\n",
    "        Returns the total sum of squares (SST)\n",
    "        \"\"\"\n",
    "        return np.sum((self.y - np.mean(self.y))**2)\n",
    "    \n",
    "    def sse(self):\n",
    "        \"\"\"\n",
    "        Returns the sum of squared errors (SSE)\n",
    "        \"\"\"\n",
    "        y_hat = self.betas[0] + self.betas[1] * self.X\n",
    "        return np.sum((self.y - y_hat)**2)\n",
    "    \n",
    "    def ssr(self):\n",
    "        \"\"\"\n",
    "        Returns the sum of squared residuals (SSR)\n",
    "        \"\"\"\n",
    "        y_hat = self.betas[0] + self.betas[1] * self.X\n",
    "        return np.sum((y_hat - self.y)**2)\n",
    "        "
   ]
  }
 ],
 "metadata": {
  "kernelspec": {
   "display_name": "Python 3",
   "language": "python",
   "name": "python3"
  },
  "language_info": {
   "codemirror_mode": {
    "name": "ipython",
    "version": 3
   },
   "file_extension": ".py",
   "mimetype": "text/x-python",
   "name": "python",
   "nbconvert_exporter": "python",
   "pygments_lexer": "ipython3",
   "version": "3.11.1"
  },
  "orig_nbformat": 4
 },
 "nbformat": 4,
 "nbformat_minor": 2
}
