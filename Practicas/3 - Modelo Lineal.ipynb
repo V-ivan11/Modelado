{
 "cells": [
  {
   "cell_type": "code",
   "execution_count": 255,
   "metadata": {},
   "outputs": [],
   "source": [
    "# Execute if necessary\n",
    "# %%capture\n",
    "# !pip install numpy seaborn matplotlib pandas"
   ]
  },
  {
   "cell_type": "code",
   "execution_count": 256,
   "metadata": {},
   "outputs": [],
   "source": [
    "import numpy as np\n",
    "import seaborn as sns\n",
    "import matplotlib.pyplot as plt\n",
    "import pandas as pd\n",
    "from typing import Dict, Tuple, Union, List"
   ]
  },
  {
   "cell_type": "markdown",
   "metadata": {},
   "source": [
    "# Práctica 3: Modelo Lineal"
   ]
  },
  {
   "cell_type": "markdown",
   "metadata": {},
   "source": [
    "__Instrucciones__: A continuación hay una lista de funciones que debe implementar o tareas que debe desarrollar. La descripción de cada una de ellas se encuentra en la definición de cada una de las funciones. Cada función está marcada por &#x1F625;,  &#x1F643; o &#x1F921;. Las marcas indican:\n",
    "\n",
    "- &#x1F625;: Indican una entrega que debe ser hecha dentro de la misma sesión de la asignación. \n",
    "- &#x1F643;: Indican una entrega que puede ser hecha hasta la siguiente sesión.\n",
    "- &#x1F921;: Debe mostrar un avance en la misma sesión, pero la entrega puede ser hecha en la siguiente.\n",
    "\n",
    "Aquellas entregas parciales que no sean hechas el día de la asignación ya no serán válidas para las entregas totales, sin embargo, las entregas totales seguirán siendo válidas."
   ]
  },
  {
   "cell_type": "markdown",
   "metadata": {},
   "source": [
    "En esta sección se incluye un dataset real. El dataset importado incluye multiples características que describen las condiciones de los pasajeros en el accidente del titanic.\n",
    "\n",
    "- __PassengerId__: Identificador de cada pasajero.\n",
    "- __Survived__: 0 si no sobrevivió al accidente, 1 si lo hizo.\n",
    "- __Pclass__: Clase en la que viajaba el pasajero, 1 - Primera clase, 2 - Segunda clase y 3 - Tercera clase.\n",
    "- __Name__: Nombre del pasajero.\n",
    "- __Sex__: Sexo del pasajero.\n",
    "- __Age__: Edad del pasajero.\n",
    "- __SibSp__: Número de hermanos más número de esposas con las que viajaba el pasajero.\n",
    "- __Parch__: Número de padres más número de hijos con las que viajaba el pasajero.\n",
    "- __Ticket__: Número de boleto.\n",
    "- __Fare__: Tarifa del boleto del pasajero.\n",
    "- __Cabin__: Número de cabina del pasajero.\n",
    "- __Embarked__: Puerto de embarcación, C - Cherbourg, Q - Queenstown y S - Southampton.\n"
   ]
  },
  {
   "cell_type": "code",
   "execution_count": 257,
   "metadata": {},
   "outputs": [
    {
     "data": {
      "text/html": [
       "<div>\n",
       "<style scoped>\n",
       "    .dataframe tbody tr th:only-of-type {\n",
       "        vertical-align: middle;\n",
       "    }\n",
       "\n",
       "    .dataframe tbody tr th {\n",
       "        vertical-align: top;\n",
       "    }\n",
       "\n",
       "    .dataframe thead th {\n",
       "        text-align: right;\n",
       "    }\n",
       "</style>\n",
       "<table border=\"1\" class=\"dataframe\">\n",
       "  <thead>\n",
       "    <tr style=\"text-align: right;\">\n",
       "      <th></th>\n",
       "      <th>PassengerId</th>\n",
       "      <th>Survived</th>\n",
       "      <th>Pclass</th>\n",
       "      <th>Name</th>\n",
       "      <th>Sex</th>\n",
       "      <th>Age</th>\n",
       "      <th>SibSp</th>\n",
       "      <th>Parch</th>\n",
       "      <th>Ticket</th>\n",
       "      <th>Fare</th>\n",
       "      <th>Cabin</th>\n",
       "      <th>Embarked</th>\n",
       "    </tr>\n",
       "  </thead>\n",
       "  <tbody>\n",
       "    <tr>\n",
       "      <th>0</th>\n",
       "      <td>1</td>\n",
       "      <td>0</td>\n",
       "      <td>3</td>\n",
       "      <td>Braund, Mr. Owen Harris</td>\n",
       "      <td>male</td>\n",
       "      <td>22.0</td>\n",
       "      <td>1</td>\n",
       "      <td>0</td>\n",
       "      <td>A/5 21171</td>\n",
       "      <td>7.2500</td>\n",
       "      <td>NaN</td>\n",
       "      <td>S</td>\n",
       "    </tr>\n",
       "    <tr>\n",
       "      <th>1</th>\n",
       "      <td>2</td>\n",
       "      <td>1</td>\n",
       "      <td>1</td>\n",
       "      <td>Cumings, Mrs. John Bradley (Florence Briggs Th...</td>\n",
       "      <td>female</td>\n",
       "      <td>38.0</td>\n",
       "      <td>1</td>\n",
       "      <td>0</td>\n",
       "      <td>PC 17599</td>\n",
       "      <td>71.2833</td>\n",
       "      <td>C85</td>\n",
       "      <td>C</td>\n",
       "    </tr>\n",
       "    <tr>\n",
       "      <th>2</th>\n",
       "      <td>3</td>\n",
       "      <td>1</td>\n",
       "      <td>3</td>\n",
       "      <td>Heikkinen, Miss. Laina</td>\n",
       "      <td>female</td>\n",
       "      <td>26.0</td>\n",
       "      <td>0</td>\n",
       "      <td>0</td>\n",
       "      <td>STON/O2. 3101282</td>\n",
       "      <td>7.9250</td>\n",
       "      <td>NaN</td>\n",
       "      <td>S</td>\n",
       "    </tr>\n",
       "  </tbody>\n",
       "</table>\n",
       "</div>"
      ],
      "text/plain": [
       "   PassengerId  Survived  Pclass  \\\n",
       "0            1         0       3   \n",
       "1            2         1       1   \n",
       "2            3         1       3   \n",
       "\n",
       "                                                Name     Sex   Age  SibSp  \\\n",
       "0                            Braund, Mr. Owen Harris    male  22.0      1   \n",
       "1  Cumings, Mrs. John Bradley (Florence Briggs Th...  female  38.0      1   \n",
       "2                             Heikkinen, Miss. Laina  female  26.0      0   \n",
       "\n",
       "   Parch            Ticket     Fare Cabin Embarked  \n",
       "0      0         A/5 21171   7.2500   NaN        S  \n",
       "1      0          PC 17599  71.2833   C85        C  \n",
       "2      0  STON/O2. 3101282   7.9250   NaN        S  "
      ]
     },
     "execution_count": 257,
     "metadata": {},
     "output_type": "execute_result"
    }
   ],
   "source": [
    "df = pd.read_csv(\"titanic.csv\")\n",
    "df.head(3)"
   ]
  },
  {
   "cell_type": "markdown",
   "metadata": {},
   "source": [
    "## Asignación 1 &#x1F625;\n",
    "\n",
    "Realice el preprocesamiento que considere adecuado para que las características __Pclass__, __Sex__, __SibSp__, __Parch__, __Fare__, __Cabin__, __Embarked__ y __Survived__ puedan ser utilizadas por un modelo lineal."
   ]
  },
  {
   "cell_type": "code",
   "execution_count": 258,
   "metadata": {},
   "outputs": [
    {
     "data": {
      "image/png": "[encoded data removed]",
      "text/plain": [
       "<Figure size 1500x800 with 8 Axes>"
      ]
     },
     "metadata": {},
     "output_type": "display_data"
    }
   ],
   "source": [
    "columns1 = [\"Pclass\", \"Sex\", \"SibSp\", \"Parch\", \"Fare\", \"Cabin\", \"Embarked\", \"Survived\"]\n",
    "fig, axs = plt.subplots(ncols=4, nrows= 2, figsize=(15, 8))\n",
    "\n",
    "for i, col in enumerate(columns1):\n",
    "    sns.histplot(data = df, x = col, ax = axs[i // 4, i % 4])"
   ]
  },
  {
   "cell_type": "code",
   "execution_count": 259,
   "metadata": {},
   "outputs": [
    {
     "data": {
      "text/plain": [
       "PassengerId      0\n",
       "Survived         0\n",
       "Pclass           0\n",
       "Name             0\n",
       "Sex              0\n",
       "Age            177\n",
       "SibSp            0\n",
       "Parch            0\n",
       "Ticket           0\n",
       "Fare             0\n",
       "Cabin          687\n",
       "Embarked         2\n",
       "dtype: int64"
      ]
     },
     "execution_count": 259,
     "metadata": {},
     "output_type": "execute_result"
    }
   ],
   "source": [
    "df.isnull().sum()"
   ]
  },
  {
   "cell_type": "code",
   "execution_count": 260,
   "metadata": {},
   "outputs": [],
   "source": [
    "def scaled_dataframe(data):\n",
    "    data_scaled = data\n",
    "    for i in data.columns:\n",
    "        if df[i].dtype == 'int64' or df[i].dtype == 'float64':\n",
    "            min_r = np.amin(df[i])\n",
    "            max_r = np.amax(df[i])\n",
    "\n",
    "            data_scaled[i] = (df[i]-min_r)/(max_r-min_r)\n",
    "\n",
    "    return data_scaled"
   ]
  },
  {
   "cell_type": "code",
   "execution_count": 261,
   "metadata": {},
   "outputs": [
    {
     "data": {
      "text/plain": [
       "<AxesSubplot:xlabel='Embarked', ylabel='Count'>"
      ]
     },
     "execution_count": 261,
     "metadata": {},
     "output_type": "execute_result"
    },
    {
     "data": {
      "image/png": "[encoded data removed]",
      "text/plain": [
       "<Figure size 640x480 with 1 Axes>"
      ]
     },
     "metadata": {},
     "output_type": "display_data"
    }
   ],
   "source": [
    "# Los datos más parecidos a los valores nulos en ambarked\n",
    "embarked_sim = df.query('Pclass == 1 and Survived == 1 and Sex == \"female\" and Fare <= 80 and SibSp == 0 and Parch == 0')\n",
    "sns.histplot(data = embarked_sim, x=\"Embarked\")"
   ]
  },
  {
   "cell_type": "code",
   "execution_count": 262,
   "metadata": {},
   "outputs": [],
   "source": [
    "# Mejoramos la asimetría\n",
    "tarifa = np.where(df[\"Fare\"] == 0, np.mean(df[\"Fare\"]), df[\"Fare\"])\n",
    "df[\"Fare\"] = np.sqrt(tarifa)\n",
    "df[\"SibSp\"] = np.sqrt(df[\"SibSp\"])\n",
    "df[\"Parch\"] = np.sqrt(df[\"Parch\"])\n",
    "\n",
    "# Eliminamos la columna de la cabina\n",
    "df = df.drop([\"Cabin\"], axis = 1)\n",
    "\n",
    "# Completamos los datos nulos de embarcación\n",
    "replaces = df[df[\"Embarked\"].isnull()].index \n",
    "df.loc[replaces, 'Embarked'] = \"C\""
   ]
  },
  {
   "cell_type": "code",
   "execution_count": 263,
   "metadata": {},
   "outputs": [],
   "source": [
    "mean_fare = []\n",
    "for i in range(1,4):\n",
    "    mean_fare.append(df[df[\"Pclass\"] == i].Fare.mean())\n",
    "    \n",
    "for i in df[df[\"Fare\"] == 0].index:\n",
    "    if df[\"Pclass\"][i] == 1:\n",
    "        df[\"Fare\"][i] = mean_fare[0]\n",
    "    elif df[\"Pclass\"][i] == 1:\n",
    "        df[\"Fare\"][i] = mean_fare[1]\n",
    "    else:\n",
    "        df[\"Fare\"][i] = mean_fare[2]"
   ]
  },
  {
   "cell_type": "code",
   "execution_count": 264,
   "metadata": {},
   "outputs": [],
   "source": [
    "col_oneh = [\"Sex\", \"Embarked\"]\n",
    "df = df.drop(\"PassengerId\", axis = 1)\n",
    "\n",
    "for i in col_oneh:\n",
    "    one_hot = pd.get_dummies(df[i])\n",
    "    df = df.drop(i, axis = 1)\n",
    "    df = df.join(one_hot)"
   ]
  },
  {
   "cell_type": "code",
   "execution_count": 265,
   "metadata": {},
   "outputs": [
    {
     "data": {
      "text/html": [
       "<div>\n",
       "<style scoped>\n",
       "    .dataframe tbody tr th:only-of-type {\n",
       "        vertical-align: middle;\n",
       "    }\n",
       "\n",
       "    .dataframe tbody tr th {\n",
       "        vertical-align: top;\n",
       "    }\n",
       "\n",
       "    .dataframe thead th {\n",
       "        text-align: right;\n",
       "    }\n",
       "</style>\n",
       "<table border=\"1\" class=\"dataframe\">\n",
       "  <thead>\n",
       "    <tr style=\"text-align: right;\">\n",
       "      <th></th>\n",
       "      <th>Survived</th>\n",
       "      <th>Pclass</th>\n",
       "      <th>Age</th>\n",
       "      <th>SibSp</th>\n",
       "      <th>Parch</th>\n",
       "      <th>Fare</th>\n",
       "      <th>female</th>\n",
       "      <th>male</th>\n",
       "      <th>C</th>\n",
       "      <th>Q</th>\n",
       "      <th>S</th>\n",
       "    </tr>\n",
       "  </thead>\n",
       "  <tbody>\n",
       "    <tr>\n",
       "      <th>count</th>\n",
       "      <td>891.000000</td>\n",
       "      <td>891.000000</td>\n",
       "      <td>714.000000</td>\n",
       "      <td>891.000000</td>\n",
       "      <td>891.000000</td>\n",
       "      <td>891.000000</td>\n",
       "      <td>891.000000</td>\n",
       "      <td>891.000000</td>\n",
       "      <td>891.000000</td>\n",
       "      <td>891.000000</td>\n",
       "      <td>891.000000</td>\n",
       "    </tr>\n",
       "    <tr>\n",
       "      <th>mean</th>\n",
       "      <td>0.383838</td>\n",
       "      <td>0.654321</td>\n",
       "      <td>0.367921</td>\n",
       "      <td>0.136219</td>\n",
       "      <td>0.119784</td>\n",
       "      <td>0.142676</td>\n",
       "      <td>0.352413</td>\n",
       "      <td>0.647587</td>\n",
       "      <td>0.190797</td>\n",
       "      <td>0.086420</td>\n",
       "      <td>0.722783</td>\n",
       "    </tr>\n",
       "    <tr>\n",
       "      <th>std</th>\n",
       "      <td>0.486592</td>\n",
       "      <td>0.418036</td>\n",
       "      <td>0.182540</td>\n",
       "      <td>0.216501</td>\n",
       "      <td>0.222050</td>\n",
       "      <td>0.139515</td>\n",
       "      <td>0.477990</td>\n",
       "      <td>0.477990</td>\n",
       "      <td>0.393150</td>\n",
       "      <td>0.281141</td>\n",
       "      <td>0.447876</td>\n",
       "    </tr>\n",
       "    <tr>\n",
       "      <th>min</th>\n",
       "      <td>0.000000</td>\n",
       "      <td>0.000000</td>\n",
       "      <td>0.000000</td>\n",
       "      <td>0.000000</td>\n",
       "      <td>0.000000</td>\n",
       "      <td>0.000000</td>\n",
       "      <td>0.000000</td>\n",
       "      <td>0.000000</td>\n",
       "      <td>0.000000</td>\n",
       "      <td>0.000000</td>\n",
       "      <td>0.000000</td>\n",
       "    </tr>\n",
       "    <tr>\n",
       "      <th>25%</th>\n",
       "      <td>0.000000</td>\n",
       "      <td>0.500000</td>\n",
       "      <td>0.247612</td>\n",
       "      <td>0.000000</td>\n",
       "      <td>0.000000</td>\n",
       "      <td>0.039358</td>\n",
       "      <td>0.000000</td>\n",
       "      <td>0.000000</td>\n",
       "      <td>0.000000</td>\n",
       "      <td>0.000000</td>\n",
       "      <td>0.000000</td>\n",
       "    </tr>\n",
       "    <tr>\n",
       "      <th>50%</th>\n",
       "      <td>0.000000</td>\n",
       "      <td>1.000000</td>\n",
       "      <td>0.346569</td>\n",
       "      <td>0.000000</td>\n",
       "      <td>0.000000</td>\n",
       "      <td>0.091256</td>\n",
       "      <td>0.000000</td>\n",
       "      <td>1.000000</td>\n",
       "      <td>0.000000</td>\n",
       "      <td>0.000000</td>\n",
       "      <td>1.000000</td>\n",
       "    </tr>\n",
       "    <tr>\n",
       "      <th>75%</th>\n",
       "      <td>1.000000</td>\n",
       "      <td>1.000000</td>\n",
       "      <td>0.472229</td>\n",
       "      <td>0.353553</td>\n",
       "      <td>0.000000</td>\n",
       "      <td>0.177968</td>\n",
       "      <td>1.000000</td>\n",
       "      <td>1.000000</td>\n",
       "      <td>0.000000</td>\n",
       "      <td>0.000000</td>\n",
       "      <td>1.000000</td>\n",
       "    </tr>\n",
       "    <tr>\n",
       "      <th>max</th>\n",
       "      <td>1.000000</td>\n",
       "      <td>1.000000</td>\n",
       "      <td>1.000000</td>\n",
       "      <td>1.000000</td>\n",
       "      <td>1.000000</td>\n",
       "      <td>1.000000</td>\n",
       "      <td>1.000000</td>\n",
       "      <td>1.000000</td>\n",
       "      <td>1.000000</td>\n",
       "      <td>1.000000</td>\n",
       "      <td>1.000000</td>\n",
       "    </tr>\n",
       "  </tbody>\n",
       "</table>\n",
       "</div>"
      ],
      "text/plain": [
       "         Survived      Pclass         Age       SibSp       Parch        Fare  \\\n",
       "count  891.000000  891.000000  714.000000  891.000000  891.000000  891.000000   \n",
       "mean     0.383838    0.654321    0.367921    0.136219    0.119784    0.142676   \n",
       "std      0.486592    0.418036    0.182540    0.216501    0.222050    0.139515   \n",
       "min      0.000000    0.000000    0.000000    0.000000    0.000000    0.000000   \n",
       "25%      0.000000    0.500000    0.247612    0.000000    0.000000    0.039358   \n",
       "50%      0.000000    1.000000    0.346569    0.000000    0.000000    0.091256   \n",
       "75%      1.000000    1.000000    0.472229    0.353553    0.000000    0.177968   \n",
       "max      1.000000    1.000000    1.000000    1.000000    1.000000    1.000000   \n",
       "\n",
       "           female        male           C           Q           S  \n",
       "count  891.000000  891.000000  891.000000  891.000000  891.000000  \n",
       "mean     0.352413    0.647587    0.190797    0.086420    0.722783  \n",
       "std      0.477990    0.477990    0.393150    0.281141    0.447876  \n",
       "min      0.000000    0.000000    0.000000    0.000000    0.000000  \n",
       "25%      0.000000    0.000000    0.000000    0.000000    0.000000  \n",
       "50%      0.000000    1.000000    0.000000    0.000000    1.000000  \n",
       "75%      1.000000    1.000000    0.000000    0.000000    1.000000  \n",
       "max      1.000000    1.000000    1.000000    1.000000    1.000000  "
      ]
     },
     "execution_count": 265,
     "metadata": {},
     "output_type": "execute_result"
    }
   ],
   "source": [
    "df_op = scaled_dataframe(df)\n",
    "df_op.describe()"
   ]
  },
  {
   "cell_type": "markdown",
   "metadata": {},
   "source": [
    "## Asignación 2 &#x1F625;\n",
    "\n",
    "Utilizando las características __Pclass__, __Sex__, __SibSp__, __Parch__, __Fare__, __Cabin__ y __Embarked__, entrene un clasificador lineal para predecir __Survived__ utilizando el algoritmo _pocket_. Imprima el error obtenido."
   ]
  },
  {
   "cell_type": "code",
   "execution_count": 266,
   "metadata": {},
   "outputs": [],
   "source": [
    "df_2 = df_op[['Pclass', 'female', 'male', 'SibSp', 'Parch', 'Fare', 'C', 'Q', 'S']]\n",
    "survived = df_op['Survived'].values"
   ]
  },
  {
   "cell_type": "code",
   "execution_count": 267,
   "metadata": {},
   "outputs": [],
   "source": [
    "def train_pla(data, target, max_iters=1000) -> np.array: \n",
    "    \n",
    "    # CÓDIGO AQUÍ\n",
    "    predicts = np.zeros(data.shape[0],)\n",
    "    missclassified = True\n",
    "    iters = 0\n",
    "\n",
    "    # Inicializamos w(0) aleatoriamente\n",
    "    model = np.random.rand(data.shape[1] + 1)\n",
    "\n",
    "    x_0 = np.ones((data.shape[0] ,), dtype=int)\n",
    "    x = np.insert(data, 0, x_0, axis=1)\n",
    "\n",
    "    # Mientras existan puntos sin clasificar\n",
    "    while missclassified and iters < max_iters:\n",
    "\n",
    "        # Calculamos cada h(x)\n",
    "        for i, fila in enumerate(data):\n",
    "            sum_wx = np.dot(model[1:data.shape[1]+ 1, ], fila) + model[0]\n",
    "            predicts[i] = np.sign(sum_wx)\n",
    "        \n",
    "        # Obtenemos los índices de los datos sin clasificar\n",
    "        missing = np.where(predicts != target)\n",
    "\n",
    "        # Si no hay datos diferentes, termina el algoritmo\n",
    "        if not np.any(missing):\n",
    "            missclassified = False\n",
    "            break        \n",
    "        else:\n",
    "            # Escogemos un punto que aún no está clasificado\n",
    "            t = np.random.choice(missing[0])\n",
    "            # t = missing[0][0]\n",
    "            # Actulizamos w(t)\n",
    "            model = model + target[t]*x[t]\n",
    "\n",
    "        iters = iters + 1\n",
    "            \n",
    "    return model"
   ]
  },
  {
   "cell_type": "code",
   "execution_count": 268,
   "metadata": {},
   "outputs": [],
   "source": [
    "def pocket_algorithm(data, target, max_iters= 1000):\n",
    "\n",
    "    nrow = data.shape[0]\n",
    "    ncol = data.shape[1]\n",
    "    iters = 0\n",
    "    error = 1000\n",
    "    missclassified = True\n",
    "\n",
    "    # Set pocket weight vector w\n",
    "    w = train_pla(data=data.values, target=target, max_iters=1)\n",
    "\n",
    "    while missclassified and iters < max_iters:\n",
    "        # Obtenemos w(t + 1)\n",
    "        w_t = train_pla(data=data.values, target=target, max_iters=1)\n",
    "\n",
    "        # Evaluamos el error\n",
    "        w_tx = np.dot(w_t[1:ncol+ 1, ], data.values.T)\n",
    "        w_tx = (w_tx - np.mean(w_tx))/np.std(w_tx)\n",
    "        w_tx = np.sign(w_tx)\n",
    "        sum_wx = 0\n",
    "        for i, val in enumerate(w_tx):\n",
    "            if val == -1:\n",
    "                val = 0\n",
    "            if val != target[i]:\n",
    "                sum_wx = sum_wx + 1\n",
    "\n",
    "        error_in = sum_wx / nrow\n",
    "\n",
    "        if sum_wx == 0:\n",
    "            missclassified = False\n",
    "            break\n",
    "        \n",
    "        # Si es menor el error, actualizamos\n",
    "        if error_in < error:\n",
    "            print('E', iters, '=', error_in)\n",
    "            w = w_t\n",
    "            error = error_in\n",
    "        iters = iters + 1\n",
    "\n",
    "    return w"
   ]
  },
  {
   "cell_type": "code",
   "execution_count": 269,
   "metadata": {},
   "outputs": [
    {
     "name": "stdout",
     "output_type": "stream",
     "text": [
      "E 0 = 0.39730639730639733\n",
      "E 1 = 0.38608305274971944\n",
      "E 6 = 0.30303030303030304\n",
      "E 7 = 0.2558922558922559\n",
      "E 80 = 0.2143658810325477\n"
     ]
    },
    {
     "data": {
      "text/plain": [
       "array([0.64486423, 0.2137314 , 0.71165212, 0.03126972, 0.12172954,\n",
       "       0.04021606, 0.22463194, 0.60337737, 0.18594824, 0.40251367])"
      ]
     },
     "execution_count": 269,
     "metadata": {},
     "output_type": "execute_result"
    }
   ],
   "source": [
    "pocket_algorithm(df_2, survived, 1000)"
   ]
  },
  {
   "cell_type": "markdown",
   "metadata": {},
   "source": [
    "## Asignación 3 &#x1F625;\n",
    "\n",
    "Utilizando las características __Pclass__, __Sex__, __SibSp__, __Parch__, __Cabin__ y __Embarked__, entrene una regresión lineal para predecir __Fare__ utilizando el algoritmo de Ordinary Leasts Squares (OLS). Imprima el valor del error cuadrático medio (MSE)."
   ]
  },
  {
   "cell_type": "code",
   "execution_count": 270,
   "metadata": {},
   "outputs": [],
   "source": [
    "df_3 = df_op[['Pclass', 'female', 'male', 'SibSp', 'Parch', 'C', 'Q', 'S']]\n",
    "fare = df_op['Fare'].values"
   ]
  },
  {
   "cell_type": "code",
   "execution_count": 271,
   "metadata": {},
   "outputs": [],
   "source": [
    "def ordinary_leasts_squares(data, target):\n",
    "    X = data.T\n",
    "        \n",
    "    pseudo_inverse = np.linalg.pinv(X)\n",
    "    w = np.matmul(pseudo_inverse.T, target)\n",
    "\n",
    "    return w"
   ]
  },
  {
   "cell_type": "code",
   "execution_count": 272,
   "metadata": {},
   "outputs": [
    {
     "data": {
      "text/plain": [
       "0.007457228439947437"
      ]
     },
     "execution_count": 272,
     "metadata": {},
     "output_type": "execute_result"
    }
   ],
   "source": [
    "w = ordinary_leasts_squares(df_3.values, fare)\n",
    "prediction = np.matmul(df_3.values, w)\n",
    "\n",
    "mse = 0\n",
    "for i, val in enumerate(prediction):\n",
    "    mse = mse + (val - fare[i])**2\n",
    "mse = mse/len(fare)\n",
    "mse"
   ]
  },
  {
   "cell_type": "markdown",
   "metadata": {},
   "source": [
    "## Asignación 4 &#x1F921;\n",
    "\n",
    "Utilizando las características __Pclass__, __Sex__, __SibSp__, __Parch__, __Fare__, __Cabin__ y __Embarked__, entrene un clasificador lineal para predecir la probabilidad de supervivencia __Survived__ utilizando el algoritmo de gradiente descendente estocástico y la entropía cruzada como función de error. Imprima el arror en cada iteración del gradiente."
   ]
  },
  {
   "cell_type": "code",
   "execution_count": 320,
   "metadata": {},
   "outputs": [],
   "source": [
    "def sgd(data, target, step, max_iter, imp = 1):\n",
    "    nrow = data.shape[0]\n",
    "    ncol = data.shape[1]\n",
    "    iters = 0\n",
    "    # Inicializamos los pesos a w(0)\n",
    "    w = np.random.uniform(0, 1, size=ncol)\n",
    "\n",
    "    while max_iter > iters:\n",
    "\n",
    "        # Tomamos un punto \n",
    "        t = np.random.choice(nrow)\n",
    "\n",
    "        wx_t = np.matmul(data, w)\n",
    "        v_t = 0\n",
    "\n",
    "        # Calculamos la entropía\n",
    "        p = 1/(1+np.exp(-wx_t))\n",
    "        cross_entropy = -(1/nrow) * np.sum(target*np.log(p) + (1-target)*np.log(1-p))\n",
    "        \n",
    "        if iters % imp == 0: print(cross_entropy)\n",
    "\n",
    "        z = - np.dot(data[t], w)\n",
    "        cross_entropy_t = (z - target[t])*data[t]\n",
    "        \n",
    "        v_t = -cross_entropy_t\n",
    "\n",
    "        # Colocamos la dirección\n",
    "        w = w - step*v_t\n",
    "\n",
    "        iters = iters + 1\n",
    "\n",
    "    return w"
   ]
  },
  {
   "cell_type": "code",
   "execution_count": 329,
   "metadata": {},
   "outputs": [
    {
     "name": "stdout",
     "output_type": "stream",
     "text": [
      "1.024314094814787\n",
      "1.0135889236931133\n",
      "1.0020922277885238\n",
      "0.9906827780885891\n",
      "0.9797401916593814\n",
      "0.9697809760374568\n",
      "0.9601032976435865\n",
      "0.9503688252988888\n",
      "0.9415620269932973\n",
      "0.933163100676896\n"
     ]
    }
   ],
   "source": [
    "w = sgd(df_2.values, survived, 0.0001, 1000, 100)"
   ]
  },
  {
   "cell_type": "code",
   "execution_count": 327,
   "metadata": {},
   "outputs": [
    {
     "data": {
      "text/plain": [
       "0.38047138047138046"
      ]
     },
     "execution_count": 327,
     "metadata": {},
     "output_type": "execute_result"
    }
   ],
   "source": [
    "pred = np.matmul(df_2.values, w)\n",
    "pred = (pred-np.amin(pred))/(np.amax(pred)-np.amin(pred))\n",
    "\n",
    "for i, val in enumerate(pred):\n",
    "    if val > 1/2: pred[i] = 1\n",
    "    else: pred[i] = 0\n",
    "    \n",
    "error = len(np.where(pred != survived)[0])/len(survived)\n",
    "error"
   ]
  }
 ],
 "metadata": {
  "kernelspec": {
   "display_name": "Python 3.10.10 64-bit",
   "language": "python",
   "name": "python3"
  },
  "language_info": {
   "codemirror_mode": {
    "name": "ipython",
    "version": 3
   },
   "file_extension": ".py",
   "mimetype": "text/x-python",
   "name": "python",
   "nbconvert_exporter": "python",
   "pygments_lexer": "ipython3",
   "version": "3.10.10"
  },
  "vscode": {
   "interpreter": {
    "hash": "e7370f93d1d0cde622a1f8e1c04877d8463912d04d973331ad4851f04de6915a"
   }
  }
 },
 "nbformat": 4,
 "nbformat_minor": 4
}
