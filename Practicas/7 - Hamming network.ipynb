{
 "cells": [
  {
   "cell_type": "markdown",
   "metadata": {},
   "source": [
    "# Red de hamming\n",
    "\n",
    "Esta red neuronal artificial fue diseñada explícitamente para resolver probleams de clasificación binaria.\n",
    "\n",
    "La ecuación de la capa feedforward es:\n",
    "$$\n",
    "a^1 = f(W^1p + b^1)\n",
    "$$\n",
    "\n",
    "donde $f$ es la función de activación, $W^1$ es la matriz de pesos, $p$ es el vector de entrada y $b^1$ es el vector de bias.\n",
    "\n",
    "Para la capa recurrente, la ecuación es:\n",
    "$$\n",
    "a(0) = a^1 \\\\\n",
    "a^2(t+1) = f(W^2a^2(t))\n",
    "$$\n",
    "\n"
   ]
  },
  {
   "cell_type": "code",
   "execution_count": 21,
   "metadata": {},
   "outputs": [],
   "source": [
    "import numpy as np\n",
    "import matplotlib.pyplot as plt"
   ]
  },
  {
   "cell_type": "code",
   "execution_count": 22,
   "metadata": {},
   "outputs": [],
   "source": [
    "class Hamming_network:\n",
    "    def __init__(self) -> None:\n",
    "        self._an = []\n",
    "        self._S = 0\n",
    "        self._R = 0\n",
    "\n",
    "    def poslin(self, x):\n",
    "        n = len(x)\n",
    "        y = np.zeros(n)\n",
    "\n",
    "        for i in range(n):\n",
    "            if x[i] > 0:\n",
    "                y[i] = x[i]\n",
    "\n",
    "        return y\n",
    "    \n",
    "    def matmul(self, W, p):\n",
    "        a = np.zeros(self._S)\n",
    "\n",
    "        for i in range(len(a)):\n",
    "            for j in range(len(p)):\n",
    "                a[i] += W[i][j] * p[j]\n",
    "\n",
    "        return a\n",
    "\n",
    "    def train(self, W, p, itmax=500, eps=0.01):\n",
    "        \"\"\"\n",
    "        W: weight matrix\n",
    "        p: p to test\n",
    "        itmax: max iteration\n",
    "        eps: epsilon as initial parameter\n",
    "        \"\"\"\n",
    "        self._R = len(p)\n",
    "        self._S = len(W)\n",
    "\n",
    "        # Wp\n",
    "        a = self.matmul(W, p)\n",
    "\n",
    "        # a^1 = Wp + b\n",
    "        an = np.zeros(self._S)\n",
    "        for i in range(self._S):\n",
    "            an[i] = a[i] + self._R\n",
    "\n",
    "        self._an.append(an)\n",
    "\n",
    "        # Recurrente\n",
    "        it = 0\n",
    "\n",
    "        W2 = np.zeros((self._S, self._S))\n",
    "        for i in range(self._S):\n",
    "            for j in range(self._S):\n",
    "                if i == j:\n",
    "                    W2[i][j] = 1\n",
    "                else:\n",
    "                    W2[i][j] = -eps\n",
    "\n",
    "        print(an)\n",
    "\n",
    "        is_zero = False\n",
    "        while it < itmax:\n",
    "            # W^2a(n)\n",
    "            w2an = self.matmul(W2, an)\n",
    "            an = self.poslin(w2an)\n",
    "            self._an.append(an)\n",
    "\n",
    "            # Condición\n",
    "            for i in range(self._S):\n",
    "                if an[i] == 0:\n",
    "                    is_zero = True\n",
    "                    continue\n",
    "            \n",
    "            if is_zero:\n",
    "                break\n",
    "\n",
    "            it += 1\n",
    "        \n",
    "        return an\n",
    "    \n",
    "    def plot_as(self):\n",
    "        ani = []\n",
    "        for i in range(len(self._an)):\n",
    "            ani.append(i)\n",
    "        \n",
    "        plt.plot(ani, self._an)\n",
    "        plt.show()\n",
    "\n",
    "        return ani\n",
    "\n",
    "        "
   ]
  },
  {
   "cell_type": "code",
   "execution_count": 24,
   "metadata": {},
   "outputs": [
    {
     "name": "stdout",
     "output_type": "stream",
     "text": [
      "[4. 2.]\n"
     ]
    },
    {
     "data": {
      "image/png": "[encoded data removed]",
      "text/plain": [
       "<Figure size 640x480 with 1 Axes>"
      ]
     },
     "metadata": {},
     "output_type": "display_data"
    },
    {
     "data": {
      "text/plain": [
       "[0, 1]"
      ]
     },
     "execution_count": 24,
     "metadata": {},
     "output_type": "execute_result"
    }
   ],
   "source": [
    "hn = Hamming_network()\n",
    "\n",
    "W = np.array([[1, -1, -1], [1, 1, -1]])\n",
    "p = np.array([-1, -1, -1])\n",
    "epsilon = 0.7\n",
    "\n",
    "hn.train(W, p, itmax=500, eps=epsilon)\n",
    "hn.plot_as()\n"
   ]
  }
 ],
 "metadata": {
  "kernelspec": {
   "display_name": "Python 3",
   "language": "python",
   "name": "python3"
  },
  "language_info": {
   "codemirror_mode": {
    "name": "ipython",
    "version": 3
   },
   "file_extension": ".py",
   "mimetype": "text/x-python",
   "name": "python",
   "nbconvert_exporter": "python",
   "pygments_lexer": "ipython3",
   "version": "3.11.1"
  },
  "orig_nbformat": 4
 },
 "nbformat": 4,
 "nbformat_minor": 2
}
